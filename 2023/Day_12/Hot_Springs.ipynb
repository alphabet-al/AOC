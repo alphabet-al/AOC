{
 "cells": [
  {
   "cell_type": "code",
   "execution_count": 8,
   "metadata": {},
   "outputs": [],
   "source": [
    "# path = r'C:\\AOC\\2023\\Day_12\\test_data.txt'\n",
    "path = r'C:\\AOC\\2023\\Day_12\\data.txt'\n",
    "\n",
    "with open(path, 'r') as file:\n",
    "    input = [[row for row in line.split(' ')] for line in file.read().splitlines()]"
   ]
  },
  {
   "cell_type": "code",
   "execution_count": 9,
   "metadata": {},
   "outputs": [],
   "source": [
    "def parse(input):\n",
    "    \"\"\" Parse input from string input into nested list \n",
    "            each row of list is comprised of nested list which comprise list of strings (condition record)\n",
    "            and tuple (group pattern)\n",
    "            ex. [ [] , () ]\n",
    "    \"\"\"\n",
    "\n",
    "    data = []\n",
    "    for group in input:\n",
    "        record, size = group\n",
    "\n",
    "        # \"\"\" part 2 \"\"\"\n",
    "        # record = '?'.join([record]*5)\n",
    "        # size = ','.join([size]*5)\n",
    "\n",
    "        # record = [char for char in record]\n",
    "        size = tuple(int(x) for x in size.split(','))\n",
    "        data.append([record,size])  \n",
    "    \n",
    "    return data"
   ]
  },
  {
   "cell_type": "code",
   "execution_count": 10,
   "metadata": {},
   "outputs": [],
   "source": [
    "def permute(data, index = 0):\n",
    "    string, _ = data\n",
    "     \n",
    "    if index == len(string):\n",
    "        return [string]\n",
    "\n",
    "    if string[index] == '?':\n",
    "    \n",
    "        # replace '?' with '#'\n",
    "        # string[index] = '#'\n",
    "        string_hash = string[:index] + '#' + string[index + 1:]\n",
    "        permutations_with_hash = permute((string_hash,_), index + 1)\n",
    "\n",
    "        # replace '?' with '.'\n",
    "        # string[index] = '.'\n",
    "        string_period = string[:index] + '.' + string[index + 1:]\n",
    "        permutations_with_period = permute((string_period,_), index + 1)\n",
    "\n",
    "        return permutations_with_hash + permutations_with_period\n",
    "    else: \n",
    "        return permute((string, _), index + 1)"
   ]
  },
  {
   "cell_type": "code",
   "execution_count": 11,
   "metadata": {},
   "outputs": [],
   "source": [
    "def condition_check(permutations, check):\n",
    "    valid_count = 0\n",
    "\n",
    "    for each_permutation in permutations:\n",
    "        # Split the string into groups separated by '.'\n",
    "        groups = each_permutation.replace('.', ' ').split()\n",
    "\n",
    "        # Apply constraints\n",
    "        if len(groups) == len(check) and all(len(group) == check[i] for i, group in enumerate(groups)):\n",
    "           \n",
    "            valid_count += 1\n",
    "\n",
    "    return valid_count"
   ]
  },
  {
   "cell_type": "code",
   "execution_count": 12,
   "metadata": {},
   "outputs": [],
   "source": [
    "def main(input):\n",
    "    valid = 0\n",
    "    data = parse(input) \n",
    "    \n",
    "    for i in data:\n",
    "        permutations = permute(i)\n",
    "        valid += condition_check(permutations, i[1])\n",
    "\n",
    "    return valid    "
   ]
  },
  {
   "cell_type": "code",
   "execution_count": 13,
   "metadata": {},
   "outputs": [
    {
     "data": {
      "text/plain": [
       "7047"
      ]
     },
     "execution_count": 13,
     "metadata": {},
     "output_type": "execute_result"
    }
   ],
   "source": [
    "tots = main(input)\n",
    "tots"
   ]
  }
 ],
 "metadata": {
  "kernelspec": {
   "display_name": "Python (myenv)",
   "language": "python",
   "name": "myenv"
  },
  "language_info": {
   "codemirror_mode": {
    "name": "ipython",
    "version": 3
   },
   "file_extension": ".py",
   "mimetype": "text/x-python",
   "name": "python",
   "nbconvert_exporter": "python",
   "pygments_lexer": "ipython3",
   "version": "3.11.7"
  }
 },
 "nbformat": 4,
 "nbformat_minor": 2
}
