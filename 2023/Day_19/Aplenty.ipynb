{
 "cells": [
  {
   "cell_type": "code",
   "execution_count": 39,
   "metadata": {},
   "outputs": [
    {
     "name": "stdout",
     "output_type": "stream",
     "text": [
      "492702\n"
     ]
    }
   ],
   "source": [
    "# path = r'C:\\AOC\\2023\\Day_19\\test_data.txt'\n",
    "path = r'C:\\AOC\\2023\\Day_19\\data.txt'\n",
    "\n",
    "with open(path, 'r') as f:\n",
    "    input = f.read().split('\\n\\n')\n",
    "    seg1, seg2 = input\n",
    "\n",
    "    workflows = {}\n",
    "\n",
    "    for line in seg1.splitlines():\n",
    "        key, rest = line[:-1].split('{')\n",
    "        rules = rest.split(',')\n",
    "        workflows[key] = ([], rules.pop())\n",
    "        for rule in rules:\n",
    "            comparison, target= rule.split(':')\n",
    "            k = comparison[0]\n",
    "            cmp = comparison[1]\n",
    "            num = int(comparison[2:])\n",
    "            workflows[key][0].append((k,cmp,num, target))\n",
    "\n",
    "    def accept(ratings, name = 'in'):\n",
    "        if name == 'R':\n",
    "            return False\n",
    "        if name == 'A':\n",
    "            return True\n",
    "        \n",
    "        rules, fallback = workflows[name]\n",
    "\n",
    "        for k, cmp, num, tar in rules:\n",
    "            if eval(f'{ratings[k]} {cmp} {num}'):\n",
    "                return accept(ratings, tar)\n",
    "        \n",
    "        return accept(ratings, fallback)\n",
    "        \n",
    " \n",
    "    count = 0 \n",
    "\n",
    "    for line in seg2.splitlines():\n",
    "        ratings = {}\n",
    "        xmas = line[1:-1].split(',')\n",
    "        for part in xmas:\n",
    "            key,val = part.split('=')\n",
    "            ratings[key] = int(val)\n",
    "        if accept(ratings):\n",
    "            count += sum(ratings.values())\n",
    "    \n",
    "    print(count)\n",
    "        "
   ]
  },
  {
   "cell_type": "code",
   "execution_count": 58,
   "metadata": {},
   "outputs": [
    {
     "ename": "TypeError",
     "evalue": "cannot unpack non-iterable NoneType object",
     "output_type": "error",
     "traceback": [
      "\u001b[1;31m---------------------------------------------------------------------------\u001b[0m",
      "\u001b[1;31mTypeError\u001b[0m                                 Traceback (most recent call last)",
      "Cell \u001b[1;32mIn[58], line 84\u001b[0m\n\u001b[0;32m     77\u001b[0m             new_range[k]\u001b[38;5;241m.\u001b[39mappend(v)\n\u001b[0;32m     82\u001b[0m     \u001b[38;5;28;01mreturn\u001b[39;00m temp, new_range\n\u001b[1;32m---> 84\u001b[0m valid_ranges, new_range \u001b[38;5;241m=\u001b[39m find_range(workflows, new_range, xmas)\n",
      "Cell \u001b[1;32mIn[58], line 67\u001b[0m, in \u001b[0;36mfind_range\u001b[1;34m(flow_dict, new_range, rng, name)\u001b[0m\n\u001b[0;32m     64\u001b[0m         rng[k][\u001b[38;5;241m1\u001b[39m] \u001b[38;5;241m=\u001b[39m low \u001b[38;5;241m-\u001b[39m \u001b[38;5;241m1\u001b[39m\n\u001b[0;32m     66\u001b[0m temp[k] \u001b[38;5;241m=\u001b[39m [low,hi]\n\u001b[1;32m---> 67\u001b[0m temp, new_range \u001b[38;5;241m=\u001b[39m find_range(flow_dict, new_range, temp, tar)\n\u001b[0;32m     69\u001b[0m \u001b[38;5;28;01mif\u001b[39;00m temp:\n\u001b[0;32m     70\u001b[0m     \u001b[38;5;28;01mfor\u001b[39;00m k,v \u001b[38;5;129;01min\u001b[39;00m temp\u001b[38;5;241m.\u001b[39mitems():\n",
      "Cell \u001b[1;32mIn[58], line 73\u001b[0m, in \u001b[0;36mfind_range\u001b[1;34m(flow_dict, new_range, rng, name)\u001b[0m\n\u001b[0;32m     70\u001b[0m             \u001b[38;5;28;01mfor\u001b[39;00m k,v \u001b[38;5;129;01min\u001b[39;00m temp\u001b[38;5;241m.\u001b[39mitems():\n\u001b[0;32m     71\u001b[0m                 new_range[k]\u001b[38;5;241m.\u001b[39mappend(v)\n\u001b[1;32m---> 73\u001b[0m temp, new_range \u001b[38;5;241m=\u001b[39m find_range(flow_dict, new_range, rng, fallback)\n\u001b[0;32m     75\u001b[0m \u001b[38;5;28;01mif\u001b[39;00m temp:\n\u001b[0;32m     76\u001b[0m     \u001b[38;5;28;01mfor\u001b[39;00m k,v \u001b[38;5;129;01min\u001b[39;00m temp\u001b[38;5;241m.\u001b[39mitems():\n",
      "Cell \u001b[1;32mIn[58], line 67\u001b[0m, in \u001b[0;36mfind_range\u001b[1;34m(flow_dict, new_range, rng, name)\u001b[0m\n\u001b[0;32m     64\u001b[0m         rng[k][\u001b[38;5;241m1\u001b[39m] \u001b[38;5;241m=\u001b[39m low \u001b[38;5;241m-\u001b[39m \u001b[38;5;241m1\u001b[39m\n\u001b[0;32m     66\u001b[0m temp[k] \u001b[38;5;241m=\u001b[39m [low,hi]\n\u001b[1;32m---> 67\u001b[0m temp, new_range \u001b[38;5;241m=\u001b[39m find_range(flow_dict, new_range, temp, tar)\n\u001b[0;32m     69\u001b[0m \u001b[38;5;28;01mif\u001b[39;00m temp:\n\u001b[0;32m     70\u001b[0m     \u001b[38;5;28;01mfor\u001b[39;00m k,v \u001b[38;5;129;01min\u001b[39;00m temp\u001b[38;5;241m.\u001b[39mitems():\n",
      "Cell \u001b[1;32mIn[58], line 73\u001b[0m, in \u001b[0;36mfind_range\u001b[1;34m(flow_dict, new_range, rng, name)\u001b[0m\n\u001b[0;32m     70\u001b[0m             \u001b[38;5;28;01mfor\u001b[39;00m k,v \u001b[38;5;129;01min\u001b[39;00m temp\u001b[38;5;241m.\u001b[39mitems():\n\u001b[0;32m     71\u001b[0m                 new_range[k]\u001b[38;5;241m.\u001b[39mappend(v)\n\u001b[1;32m---> 73\u001b[0m temp, new_range \u001b[38;5;241m=\u001b[39m find_range(flow_dict, new_range, rng, fallback)\n\u001b[0;32m     75\u001b[0m \u001b[38;5;28;01mif\u001b[39;00m temp:\n\u001b[0;32m     76\u001b[0m     \u001b[38;5;28;01mfor\u001b[39;00m k,v \u001b[38;5;129;01min\u001b[39;00m temp\u001b[38;5;241m.\u001b[39mitems():\n",
      "\u001b[1;31mTypeError\u001b[0m: cannot unpack non-iterable NoneType object"
     ]
    }
   ],
   "source": [
    "import itertools\n",
    "\n",
    "path = r'C:\\AOC\\2023\\Day_19\\test_data.txt'\n",
    "# path = r'C:\\AOC\\2023\\Day_19\\data.txt'\n",
    "\n",
    "with open(path, 'r') as f:\n",
    "    input = f.read().split('\\n\\n')\n",
    "    seg1, seg2 = input\n",
    "\n",
    "    workflows = {}\n",
    "\n",
    "    for line in seg1.splitlines():\n",
    "        key, rest = line[:-1].split('{')\n",
    "        rules = rest.split(',')\n",
    "        workflows[key] = ([], rules.pop())\n",
    "        for rule in rules:\n",
    "            comparison, target= rule.split(':')\n",
    "            k = comparison[0]\n",
    "            cmp = comparison[1]\n",
    "            num = int(comparison[2:])\n",
    "            workflows[key][0].append((k,cmp,num, target))\n",
    "\n",
    "xmas = {\n",
    "        'x' : [1,4000],\n",
    "        'm' : [1,4000],\n",
    "        'a' : [1,4000],\n",
    "        's' : [1,4000],\n",
    "        }\n",
    "\n",
    "new_range = {\n",
    "            'x' : [],\n",
    "            'm' : [],\n",
    "            'a' : [],\n",
    "            's' : [],\n",
    "            }\n",
    "\n",
    "\n",
    "def find_range(flow_dict, new_range, rng, name = 'in'):\n",
    "   \n",
    "    if name == 'R':\n",
    "        return\n",
    "    \n",
    "    if name == 'A':\n",
    "        return rng\n",
    "    \n",
    "    rules, fallback = workflows[name]\n",
    "\n",
    "    for k, cmp, num, tar in rules:\n",
    "        temp = {}\n",
    "\n",
    "        if k in rng:\n",
    "            low, hi = rng[k] \n",
    "            if cmp == '<':\n",
    "                if low > num and hi > num:  # if current range outside comparison range, nothing to do\n",
    "                    continue\n",
    "                if hi > num:    # if hi pointer greater than comparison, then we adjust hi pointer to max comparison value\n",
    "                    hi = num - 1\n",
    "                    rng[k][0] = hi + 1\n",
    "            if cmp == '>':\n",
    "                if hi < num and low < num:  # if current range outside comparison range, nothing to do\n",
    "                    continue\n",
    "                if low < num:   # if low pointer is less than comparison, then we adjust low pointer to min comparison value\n",
    "                    low = num + 1\n",
    "                    rng[k][1] = low - 1\n",
    "\n",
    "            temp[k] = [low,hi]\n",
    "            temp, new_range = find_range(flow_dict, new_range, temp, tar)\n",
    "\n",
    "            if temp:\n",
    "                for k,v in temp.items():\n",
    "                    new_range[k].append(v)\n",
    "\n",
    "    temp, new_range = find_range(flow_dict, new_range, rng, fallback)\n",
    "\n",
    "    if temp:\n",
    "        for k,v in temp.items():\n",
    "            new_range[k].append(v)\n",
    "\n",
    "\n",
    "\n",
    "\n",
    "    return temp, new_range\n",
    "\n",
    "valid_ranges, new_range = find_range(workflows, new_range, xmas)\n"
   ]
  },
  {
   "cell_type": "code",
   "execution_count": 56,
   "metadata": {},
   "outputs": [
    {
     "data": {
      "text/plain": [
       "{'x': [[[[]]], [[[]], [[]]]],\n",
       " 'm': [[[[]]], [[[]], [[839, 1800], [[1, 838]]]]],\n",
       " 'a': [[[[]]], [[[]], [[]]]],\n",
       " 's': [[[[], [537, 1350]]], [[[3449, 4000], [[2771, 3448]]], [[]]]]}"
      ]
     },
     "execution_count": 56,
     "metadata": {},
     "output_type": "execute_result"
    }
   ],
   "source": [
    "valid_ranges"
   ]
  }
 ],
 "metadata": {
  "kernelspec": {
   "display_name": "Python (myenv)",
   "language": "python",
   "name": "myenv"
  },
  "language_info": {
   "codemirror_mode": {
    "name": "ipython",
    "version": 3
   },
   "file_extension": ".py",
   "mimetype": "text/x-python",
   "name": "python",
   "nbconvert_exporter": "python",
   "pygments_lexer": "ipython3",
   "version": "3.11.7"
  }
 },
 "nbformat": 4,
 "nbformat_minor": 2
}
