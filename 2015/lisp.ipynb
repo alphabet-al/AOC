{
 "cells": [
  {
   "cell_type": "code",
   "execution_count": 34,
   "metadata": {},
   "outputs": [],
   "source": [
    "# path = r'C:\\AOC\\2015\\test_data.txt'\n",
    "path = r'C:\\AOC\\2015\\data.txt'\n",
    "\n",
    "with open(path, 'r') as f:\n",
    "    input = f.read()\n"
   ]
  },
  {
   "cell_type": "code",
   "execution_count": 36,
   "metadata": {},
   "outputs": [
    {
     "name": "stdout",
     "output_type": "stream",
     "text": [
      "1783\n",
      "-1\n"
     ]
    }
   ],
   "source": [
    "l = 0\n",
    "count = 0\n",
    "\n",
    "while l < len(input):\n",
    "    if input[l] == '(':\n",
    "        count += 1\n",
    "    else:\n",
    "        count -= 1\n",
    "    l += 1\n",
    "\n",
    "    if count == -1:\n",
    "        print(l)\n",
    "        break\n",
    "\n",
    "print(count)"
   ]
  }
 ],
 "metadata": {
  "kernelspec": {
   "display_name": "Python (myenv)",
   "language": "python",
   "name": "myenv"
  },
  "language_info": {
   "codemirror_mode": {
    "name": "ipython",
    "version": 3
   },
   "file_extension": ".py",
   "mimetype": "text/x-python",
   "name": "python",
   "nbconvert_exporter": "python",
   "pygments_lexer": "ipython3",
   "version": "3.11.7"
  }
 },
 "nbformat": 4,
 "nbformat_minor": 2
}
